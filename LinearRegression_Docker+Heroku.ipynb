{
  "cells": [
    {
      "cell_type": "markdown",
      "metadata": {
        "id": "view-in-github",
        "colab_type": "text"
      },
      "source": [
        "<a href=\"https://colab.research.google.com/github/LeeVek/ML_End2End_PROJECTS/blob/main/LinearRegression_Docker%2BHeroku.ipynb\" target=\"_parent\"><img src=\"https://colab.research.google.com/assets/colab-badge.svg\" alt=\"Open In Colab\"/></a>"
      ]
    },
    {
      "cell_type": "code",
      "execution_count": null,
      "metadata": {
        "id": "eNs7pqKlJT3N"
      },
      "outputs": [],
      "source": [
        "import pandas as pd\n",
        "import numpy as np\n",
        "import matplotlib.pyplot as plt\n",
        "%matplotlib inline"
      ]
    },
    {
      "cell_type": "markdown",
      "metadata": {
        "id": "hpAuXvrtJT3O"
      },
      "source": [
        "## Lets load the Boston House Pricing Dataset"
      ]
    },
    {
      "cell_type": "code",
      "source": [
        "!pip install scikit-learn"
      ],
      "metadata": {
        "colab": {
          "base_uri": "https://localhost:8080/"
        },
        "id": "5QGnBGII9slh",
        "outputId": "d9e12553-3e05-4ede-8810-9fddf3efad64"
      },
      "execution_count": null,
      "outputs": [
        {
          "output_type": "stream",
          "name": "stdout",
          "text": [
            "Looking in indexes: https://pypi.org/simple, https://us-python.pkg.dev/colab-wheels/public/simple/\n",
            "Requirement already satisfied: scikit-learn in /usr/local/lib/python3.10/dist-packages (1.2.2)\n",
            "Requirement already satisfied: numpy>=1.17.3 in /usr/local/lib/python3.10/dist-packages (from scikit-learn) (1.22.4)\n",
            "Requirement already satisfied: scipy>=1.3.2 in /usr/local/lib/python3.10/dist-packages (from scikit-learn) (1.10.1)\n",
            "Requirement already satisfied: joblib>=1.1.1 in /usr/local/lib/python3.10/dist-packages (from scikit-learn) (1.2.0)\n",
            "Requirement already satisfied: threadpoolctl>=2.0.0 in /usr/local/lib/python3.10/dist-packages (from scikit-learn) (3.1.0)\n"
          ]
        }
      ]
    },
    {
      "cell_type": "code",
      "execution_count": null,
      "metadata": {
        "id": "QTzBBzAQJT3P"
      },
      "outputs": [],
      "source": [
        "boston=load_boston()"
      ]
    },
    {
      "cell_type": "code",
      "execution_count": null,
      "metadata": {
        "id": "aY_HCDRoJT3Q"
      },
      "outputs": [],
      "source": [
        "boston.keys()"
      ]
    },
    {
      "cell_type": "code",
      "execution_count": null,
      "metadata": {
        "id": "n7bPv1GqJT3Q"
      },
      "outputs": [],
      "source": [
        "## Lets check the description of the dataset\n",
        "print(boston.DESCR)"
      ]
    },
    {
      "cell_type": "code",
      "execution_count": null,
      "metadata": {
        "id": "MneKegTeJT3R"
      },
      "outputs": [],
      "source": [
        "print(boston.data)"
      ]
    },
    {
      "cell_type": "code",
      "execution_count": null,
      "metadata": {
        "id": "pQE8F5fsJT3R"
      },
      "outputs": [],
      "source": [
        "print(boston.target)"
      ]
    },
    {
      "cell_type": "code",
      "execution_count": null,
      "metadata": {
        "id": "76TyDt-dJT3R"
      },
      "outputs": [],
      "source": [
        "print(boston.feature_names)"
      ]
    },
    {
      "cell_type": "markdown",
      "metadata": {
        "id": "705A9ZFnJT3R"
      },
      "source": [
        "## Preparing The Dataset"
      ]
    },
    {
      "cell_type": "code",
      "execution_count": null,
      "metadata": {
        "id": "R1Zkuzd7JT3R"
      },
      "outputs": [],
      "source": [
        "dataset=pd.DataFrame(boston.data,columns=boston.feature_names)"
      ]
    },
    {
      "cell_type": "code",
      "execution_count": null,
      "metadata": {
        "id": "SWQZfHGfJT3S"
      },
      "outputs": [],
      "source": [
        "dataset.head()"
      ]
    },
    {
      "cell_type": "code",
      "execution_count": null,
      "metadata": {
        "id": "zy5ifoIJJT3S"
      },
      "outputs": [],
      "source": [
        "dataset['Price']=boston.target"
      ]
    },
    {
      "cell_type": "code",
      "execution_count": null,
      "metadata": {
        "id": "1Ajv_OmXJT3S"
      },
      "outputs": [],
      "source": [
        "dataset.head()"
      ]
    },
    {
      "cell_type": "code",
      "execution_count": null,
      "metadata": {
        "id": "xrBQrq5SJT3S"
      },
      "outputs": [],
      "source": [
        "dataset.info()"
      ]
    },
    {
      "cell_type": "code",
      "execution_count": null,
      "metadata": {
        "id": "Ycf3SgaNJT3S"
      },
      "outputs": [],
      "source": [
        "## Summarizing The Stats of the data\n",
        "dataset.describe()"
      ]
    },
    {
      "cell_type": "code",
      "execution_count": null,
      "metadata": {
        "id": "G9CTC6ZjJT3T"
      },
      "outputs": [],
      "source": [
        "## Check the missing Values\n",
        "dataset.isnull().sum()"
      ]
    },
    {
      "cell_type": "code",
      "execution_count": null,
      "metadata": {
        "id": "tsNYUCl4JT3T"
      },
      "outputs": [],
      "source": [
        "### EXploratory Data Analysis\n",
        "## Correlation\n",
        "dataset.corr()"
      ]
    },
    {
      "cell_type": "code",
      "execution_count": null,
      "metadata": {
        "id": "hwf3gAmdJT3T"
      },
      "outputs": [],
      "source": [
        "import seaborn as sns\n",
        "sns.pairplot(dataset)"
      ]
    },
    {
      "cell_type": "markdown",
      "metadata": {
        "id": "zBilnoQ6JT3T"
      },
      "source": [
        "## Analyzing The Correlated Features"
      ]
    },
    {
      "cell_type": "code",
      "execution_count": null,
      "metadata": {
        "id": "9XbZ0HItJT3T"
      },
      "outputs": [],
      "source": [
        "#check correlation between independent features to each other and to the dependent feature\n",
        "dataset.corr()"
      ]
    },
    {
      "cell_type": "code",
      "execution_count": null,
      "metadata": {
        "id": "gK363bMNJT3T"
      },
      "outputs": [],
      "source": [
        "plt.scatter(dataset['CRIM'],dataset['Price'])\n",
        "plt.xlabel(\"Crime Rate\")\n",
        "plt.ylabel(\"Price\")\n",
        "#inversely correlated"
      ]
    },
    {
      "cell_type": "code",
      "execution_count": null,
      "metadata": {
        "id": "RrW97lcVJT3U"
      },
      "outputs": [],
      "source": [
        "#scattertplot\n",
        "plt.scatter(dataset['RM'],dataset['Price'])\n",
        "plt.xlabel(\"RM\")\n",
        "plt.ylabel(\"Price\")\n",
        "#positive correlation"
      ]
    },
    {
      "cell_type": "code",
      "execution_count": null,
      "metadata": {
        "id": "bdW6zBwlJT3U"
      },
      "outputs": [],
      "source": [
        "#regressionplot\n",
        "import seaborn as sns\n",
        "sns.regplot(x=\"RM\",y=\"Price\",data=dataset)\n",
        "#this creates a simpole linear regression line and shows the variations of datapoints"
      ]
    },
    {
      "cell_type": "code",
      "execution_count": null,
      "metadata": {
        "id": "0FkVSqU4JT3U"
      },
      "outputs": [],
      "source": [
        "sns.regplot(x=\"LSTAT\",y=\"Price\",data=dataset)\n",
        "#negative correlation"
      ]
    },
    {
      "cell_type": "code",
      "execution_count": null,
      "metadata": {
        "id": "jfwEnt4oJT3U"
      },
      "outputs": [],
      "source": [
        "sns.regplot(x=\"CHAS\",y=\"Price\",data=dataset)\n",
        "#linearity(+or-) should be there to create better regression model"
      ]
    },
    {
      "cell_type": "code",
      "execution_count": null,
      "metadata": {
        "id": "uVAbaEScJT3U"
      },
      "outputs": [],
      "source": [
        "sns.regplot(x=\"PTRATIO\",y=\"Price\",data=dataset)"
      ]
    },
    {
      "cell_type": "code",
      "execution_count": null,
      "metadata": {
        "id": "w9Ag_CBcJT3V"
      },
      "outputs": [],
      "source": [
        "## Independent and Dependent features\n",
        "\n",
        "X=dataset.iloc[:,:-1]#to skip last column\n",
        "y=dataset.iloc[:,-1]#price is the dependent feature/target"
      ]
    },
    {
      "cell_type": "markdown",
      "source": [
        "**TO CREATE MODELS:**\n",
        "\n",
        "\n",
        "1.   Prepare independent and dependent features\n",
        "2.   Train test split\n",
        "\n"
      ],
      "metadata": {
        "id": "qrUTmhhrNWLR"
      }
    },
    {
      "cell_type": "code",
      "execution_count": null,
      "metadata": {
        "id": "5xHbZs0ZJT3V"
      },
      "outputs": [],
      "source": [
        "X.head()"
      ]
    },
    {
      "cell_type": "code",
      "execution_count": null,
      "metadata": {
        "id": "2fXwc9DcJT3V"
      },
      "outputs": [],
      "source": [
        "y"
      ]
    },
    {
      "cell_type": "code",
      "execution_count": null,
      "metadata": {
        "id": "LoqlaLx9JT3V"
      },
      "outputs": [],
      "source": [
        "##Train Test Split\n",
        "from sklearn.model_selection import train_test_split\n",
        "X_train,X_test,y_train,y_test=train_test_split(X,y,test_size=0.3,random_state=42)"
      ]
    },
    {
      "cell_type": "code",
      "execution_count": null,
      "metadata": {
        "id": "cGBFku6wJT3V"
      },
      "outputs": [],
      "source": [
        "X_train"
      ]
    },
    {
      "cell_type": "code",
      "execution_count": null,
      "metadata": {
        "id": "7T8un5xaJT3V"
      },
      "outputs": [],
      "source": [
        "X_test"
      ]
    },
    {
      "cell_type": "code",
      "execution_count": null,
      "metadata": {
        "id": "auxCGyKOJT3W"
      },
      "outputs": [],
      "source": [
        "## Standardize the dataset\n",
        "#standardscaler\n",
        "#gradient descent\n",
        "#main aim of linear regression is to come near the global minima\n",
        "#for converging our specific algorithm of the gradient descent to take place faster, we need to normalize/standardize these data points to the same scale-->>STANDARDIZED SCALAR\n",
        "from sklearn.preprocessing import StandardScaler\n",
        "scaler=StandardScaler()"
      ]
    },
    {
      "cell_type": "markdown",
      "source": [
        "***why do we standardize dataset in linear regression?***:\n",
        "\n",
        "internally we use **gradient descent** and our main aim is to come to the **global minima**.in order to reach global minima, we should ensure that all **independent features unit** should be in the **same scale**.So that, the **convergence** wil hapen **quickly**.\n"
      ],
      "metadata": {
        "id": "LClcEbBSTIvD"
      }
    },
    {
      "cell_type": "code",
      "execution_count": null,
      "metadata": {
        "id": "nRhZcNPwJT3W"
      },
      "outputs": [],
      "source": [
        "X_train=scaler.fit_transform(X_train)"
      ]
    },
    {
      "cell_type": "code",
      "execution_count": null,
      "metadata": {
        "id": "kBfj_wlGJT3W"
      },
      "outputs": [],
      "source": [
        "X_test=scaler.transform(X_test)\n",
        "#we dpnt apply fit_transform to test data . whatever info and and techniques aplied on trainingdata should be applied to testdata"
      ]
    },
    {
      "cell_type": "code",
      "execution_count": null,
      "metadata": {
        "id": "oNWxVVdNJT3W"
      },
      "outputs": [],
      "source": [
        "import pickle\n",
        "pickle.dump(scaler,open('scaling.pkl','wb'))"
      ]
    },
    {
      "cell_type": "code",
      "execution_count": null,
      "metadata": {
        "id": "vbZ4smmDJT3W"
      },
      "outputs": [],
      "source": [
        "X_train"
      ]
    },
    {
      "cell_type": "code",
      "execution_count": null,
      "metadata": {
        "id": "m9GisGvAJT3W"
      },
      "outputs": [],
      "source": [
        "X_test"
      ]
    },
    {
      "cell_type": "markdown",
      "metadata": {
        "id": "mig47TT9JT3k"
      },
      "source": [
        "## Model Training"
      ]
    },
    {
      "cell_type": "code",
      "execution_count": null,
      "metadata": {
        "id": "IMGMYHOOJT3k"
      },
      "outputs": [],
      "source": [
        "from sklearn.linear_model import LinearRegression"
      ]
    },
    {
      "cell_type": "code",
      "execution_count": null,
      "metadata": {
        "id": "ssc8s19DJT3l"
      },
      "outputs": [],
      "source": [
        "regression=LinearRegression()\n",
        "#initialize the specific model"
      ]
    },
    {
      "cell_type": "code",
      "execution_count": null,
      "metadata": {
        "id": "BxtuPhb0JT3l"
      },
      "outputs": [],
      "source": [
        "regression.fit(X_train,y_train)\n",
        "#similar to creating hyperplane"
      ]
    },
    {
      "cell_type": "code",
      "execution_count": null,
      "metadata": {
        "id": "l6GcZlOJJT3l"
      },
      "outputs": [],
      "source": [
        "## print the coefficients and the intercept\n",
        "print(regression.coef_)\n",
        "#this wil be equal to number of independent features"
      ]
    },
    {
      "cell_type": "code",
      "execution_count": null,
      "metadata": {
        "id": "wa28cPwCJT3l"
      },
      "outputs": [],
      "source": [
        "print(regression.intercept_)"
      ]
    },
    {
      "cell_type": "code",
      "execution_count": null,
      "metadata": {
        "id": "Lt-nAAJ9JT3l"
      },
      "outputs": [],
      "source": [
        "## on which parameters the model has been trained\n",
        "regression.get_params()# a method"
      ]
    },
    {
      "cell_type": "markdown",
      "source": [
        "These parameters control different aspects of the regression model's behavior and can be adjusted to **fine-tune the performance** or adapt to specific requirements."
      ],
      "metadata": {
        "id": "k_-pLkavWiKh"
      }
    },
    {
      "cell_type": "markdown",
      "source": [
        "**copy_X**: This parameter determines whether or not a copy of the input features (X) should be made. If set to True, it ensures that the original input data is not modified during the training process."
      ],
      "metadata": {
        "id": "27RYo_NZWB1K"
      }
    },
    {
      "cell_type": "markdown",
      "source": [
        "**fit_intercept**: It specifies whether or not an intercept term should be included in the regression model. If set to True, the model will learn an additional intercept term, which allows the regression line to not necessarily pass through the origin."
      ],
      "metadata": {
        "id": "mFnNG93CWDBR"
      }
    },
    {
      "cell_type": "markdown",
      "source": [
        "**n_jobs**: This parameter determines the number of parallel jobs to use during model training. By default, it is set to None, which means that the model will use only one job. If set to an integer value, it enables **parallel computation using multiple jobs**."
      ],
      "metadata": {
        "id": "kLOJzHk2WN6u"
      }
    },
    {
      "cell_type": "markdown",
      "source": [
        "**normalize**: It specifies whether or not the input features should be normalized before fitting the regression model. If set to True, the features will be scaled so that they have zero mean and unit variance."
      ],
      "metadata": {
        "id": "AabtlX-4WVg5"
      }
    },
    {
      "cell_type": "markdown",
      "source": [
        "**positive**: This parameter is relevant for certain types of regression models, such as non-negative linear regression. If set to True, it enforces that the **predicted values should be non-negative**."
      ],
      "metadata": {
        "id": "EiLhySbkWZvL"
      }
    },
    {
      "cell_type": "markdown",
      "source": [
        "**alpha**: This parameter is used in **regularization methods, such as Ridge regression or Lasso regression**. It controls the strength of regularization, with **higher values** leading to **more regularization** and potentially **simpler models**.\n",
        "\n",
        "**max_iter**: It specifies the maximum number of **iterations or epochs** that the regression **algo**rithm will perform **during training**. It helps **control the convergence of the optimization process**.\n",
        "\n",
        "**tol**: This parameter determines the **tolerance** or **threshold for convergence**. If the change in the model's coefficients or **loss function** **falls below this value, the optimization process is considered to have converged**.\n",
        "\n",
        "**solver**: For certain types of regression models, such as logistic regression, this parameter determines **the solver algorithm used to optimize the model's parameters**. Common solver options include 'lbfgs', '**liblinear**', 'newton-cg', 'sag', and 'saga'.\n",
        "\n",
        "**random_state**: It is used to set a **seed value** for the **random number generator.** By fixing the seed, you can ensure **reproducibility of the results across different runs of the model**.\n",
        "\n",
        "**verbose**: This parameter controls the level of verbosity or **amount of output generated during training**. **Higher values provide more detailed information, while lower values reduce the amount of output.**"
      ],
      "metadata": {
        "id": "77YZ2U2XWuKD"
      }
    },
    {
      "cell_type": "code",
      "execution_count": null,
      "metadata": {
        "id": "Eyk-mKcvJT3m"
      },
      "outputs": [],
      "source": [
        "### Prediction With Test Data\n",
        "reg_pred=regression.predict(X_test)"
      ]
    },
    {
      "cell_type": "code",
      "execution_count": null,
      "metadata": {
        "id": "h6uS1codJT3m"
      },
      "outputs": [],
      "source": [
        "reg_pred"
      ]
    },
    {
      "cell_type": "markdown",
      "metadata": {
        "id": "XSEPzkxwJT3m"
      },
      "source": [
        "## Assumptions"
      ]
    },
    {
      "cell_type": "code",
      "execution_count": null,
      "metadata": {
        "id": "le2KZyoEJT3m"
      },
      "outputs": [],
      "source": [
        "## plot a scatter plot for the prediction\n",
        "plt.scatter(y_test,reg_pred)\n",
        "#almost linear-->>model predicts fine"
      ]
    },
    {
      "cell_type": "code",
      "execution_count": null,
      "metadata": {
        "id": "HxY3R5fkJT3m"
      },
      "outputs": [],
      "source": [
        "## Residuals=error \n",
        "residuals=y_test-reg_pred"
      ]
    },
    {
      "cell_type": "code",
      "execution_count": null,
      "metadata": {
        "id": "XDqkxOUQJT3m"
      },
      "outputs": [],
      "source": [
        "residuals"
      ]
    },
    {
      "cell_type": "code",
      "execution_count": null,
      "metadata": {
        "id": "1F-UWNthJT3n"
      },
      "outputs": [],
      "source": [
        "## Plot this residuals \n",
        "\n",
        "sns.displot(residuals,kind=\"kde\")#kernel density estimation (KDE) \n",
        "#normal distribution in distlot-->>better model performance\n",
        "#but at the right end there are many outliers"
      ]
    },
    {
      "cell_type": "markdown",
      "source": [
        "This will generate a KDE plot of the residuals, which can help you analyze the **goodness of fit of your regression model** and identify any patterns or **deviations in the residuals.**"
      ],
      "metadata": {
        "id": "JUDnFHGsao_T"
      }
    },
    {
      "cell_type": "code",
      "execution_count": null,
      "metadata": {
        "id": "XI1eV1gYJT3n"
      },
      "outputs": [],
      "source": [
        "## Scatter plot with respect to prediction and residuals\n",
        "## uniform distribution in scatter plot-->>model is performing well\n",
        "plt.scatter(reg_pred,residuals)"
      ]
    },
    {
      "cell_type": "code",
      "execution_count": null,
      "metadata": {
        "id": "HLxLTQrYJT3n"
      },
      "outputs": [],
      "source": [
        "from sklearn.metrics import mean_squared_error\n",
        "from sklearn.metrics import mean_absolute_error\n",
        "\n",
        "print(mean_absolute_error(y_test,reg_pred))#mae\n",
        "print(mean_squared_error(y_test,reg_pred))#mse\n",
        "print(np.sqrt(mean_squared_error(y_test,reg_pred)))#rmse"
      ]
    },
    {
      "cell_type": "markdown",
      "source": [
        "**MAE**: MAE represents the average absolute difference between the predicted and true values. It measures the average magnitude of the errors without considering their direction. A **lower** MAE indicates better model performance, as it suggests that the model's predictions are closer to the true values on average.\n",
        "\n",
        "**MSE**: MSE represents the average squared difference between the predicted and true values. It gives higher weights to larger errors due to the squaring operation. A **lower** MSE indicates better model performance, as it means that the model's predictions are, on average, closer to the true values with smaller deviations.\n",
        "\n",
        "**RMSE**: RMSE is the square root of MSE, and it is expressed in the same units as the target variable. It provides a more interpretable measure of the average error magnitude. Similar to MAE and MSE, a **lower** RMSE indicates better model performance."
      ],
      "metadata": {
        "id": "O9PlYFY4cMUd"
      }
    },
    {
      "cell_type": "markdown",
      "metadata": {
        "id": "iucBHZuTJT3n"
      },
      "source": [
        "## R square and adjusted R square"
      ]
    },
    {
      "cell_type": "markdown",
      "metadata": {
        "id": "yumRnSQ9JT3n"
      },
      "source": [
        "\n",
        "Formula\n",
        "\n",
        "**R^2 = 1 - SSR/SST**\n",
        "\n",
        "\n",
        "R^2\t=\tcoefficient of determination\n",
        "SSR\t=\tsum of squares of residuals\n",
        "SST\t=\ttotal sum of squares\n"
      ]
    },
    {
      "cell_type": "code",
      "execution_count": null,
      "metadata": {
        "id": "fVi-A_jQJT3o"
      },
      "outputs": [],
      "source": [
        "from sklearn.metrics import r2_score\n",
        "score=r2_score(y_test,reg_pred)\n",
        "print(score)"
      ]
    },
    {
      "cell_type": "code",
      "execution_count": null,
      "metadata": {
        "id": "aJZJvIpxJT3o"
      },
      "outputs": [],
      "source": []
    },
    {
      "cell_type": "markdown",
      "source": [
        "adjusted R2 is less than R2\n",
        "\n",
        "if value is more towards 1 the more better the score"
      ],
      "metadata": {
        "id": "qan0eSjubTvS"
      }
    },
    {
      "cell_type": "markdown",
      "metadata": {
        "id": "spkfnpdiJT3o"
      },
      "source": [
        "**Adjusted R2 = 1 – [(1-R2)*(n-1)/(n-k-1)]**\n",
        "\n",
        "where:\n",
        "\n",
        "R2: The R2 of the model\n",
        "n: The number of observations\n",
        "k: The number of predictor variables"
      ]
    },
    {
      "cell_type": "code",
      "execution_count": null,
      "metadata": {
        "id": "QJPCvwt4JT3o"
      },
      "outputs": [],
      "source": [
        "#display adjusted R-squared\n",
        "1 - (1-score)*(len(y_test)-1)/(len(y_test)-X_test.shape[1]-1)"
      ]
    },
    {
      "cell_type": "markdown",
      "metadata": {
        "id": "sA7Rvl65JT3o"
      },
      "source": [
        "## New Data Prediction"
      ]
    },
    {
      "cell_type": "code",
      "execution_count": null,
      "metadata": {
        "id": "e3oEBr8KJT3p"
      },
      "outputs": [],
      "source": [
        "boston.data[0].reshape(1,-1)"
      ]
    },
    {
      "cell_type": "code",
      "execution_count": null,
      "metadata": {
        "id": "Y8iyhM2RJT3p"
      },
      "outputs": [],
      "source": [
        "##transformation of new data\n",
        "scaler.transform(boston.data[0].reshape(1,-1))"
      ]
    },
    {
      "cell_type": "code",
      "execution_count": null,
      "metadata": {
        "id": "_v_95VzIJT3p"
      },
      "outputs": [],
      "source": [
        "regression.predict(scaler.transform(boston.data[0].reshape(1,-1)))"
      ]
    },
    {
      "cell_type": "markdown",
      "metadata": {
        "id": "35i8Uy6yJT3p"
      },
      "source": [
        "## Pickling The Model file For Deployment"
      ]
    },
    {
      "cell_type": "code",
      "execution_count": null,
      "metadata": {
        "id": "mj4CUiDWJT3p"
      },
      "outputs": [],
      "source": [
        "import pickle"
      ]
    },
    {
      "cell_type": "code",
      "execution_count": null,
      "metadata": {
        "id": "X_1xGYL6JT3p"
      },
      "outputs": [],
      "source": [
        "pickle.dump(regression,open('regmodel.pkl','wb'))"
      ]
    },
    {
      "cell_type": "code",
      "execution_count": null,
      "metadata": {
        "id": "1aIPMfhRJT3p"
      },
      "outputs": [],
      "source": [
        "pickled_model=pickle.load(open('regmodel.pkl','rb'))"
      ]
    },
    {
      "cell_type": "code",
      "execution_count": null,
      "metadata": {
        "id": "m_Dxx7_7JT3q",
        "outputId": "18de1f8f-630a-4ee6-9140-151c5bc487bb"
      },
      "outputs": [
        {
          "data": {
            "text/plain": [
              "array([30.08649576])"
            ]
          },
          "execution_count": 58,
          "metadata": {},
          "output_type": "execute_result"
        }
      ],
      "source": [
        "## Prediction\n",
        "pickled_model.predict(scaler.transform(boston.data[0].reshape(1,-1)))"
      ]
    },
    {
      "cell_type": "code",
      "execution_count": null,
      "metadata": {
        "id": "XwsChPDGJT3q"
      },
      "outputs": [],
      "source": []
    }
  ],
  "metadata": {
    "kernelspec": {
      "display_name": "Python 3.7.10 ('myenv')",
      "language": "python",
      "name": "python3"
    },
    "language_info": {
      "codemirror_mode": {
        "name": "ipython",
        "version": 3
      },
      "file_extension": ".py",
      "mimetype": "text/x-python",
      "name": "python",
      "nbconvert_exporter": "python",
      "pygments_lexer": "ipython3",
      "version": "3.7.10"
    },
    "vscode": {
      "interpreter": {
        "hash": "4a7241ec6a08cf884868b925f68d7fb15895bfb848fb3fcf860821a8a442ef3e"
      }
    },
    "colab": {
      "provenance": [],
      "include_colab_link": true
    }
  },
  "nbformat": 4,
  "nbformat_minor": 0
}